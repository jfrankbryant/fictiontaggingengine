{
 "cells": [
  {
   "cell_type": "code",
   "execution_count": 1,
   "metadata": {},
   "outputs": [],
   "source": [
    "import pandas as pd\n",
    "import numpy as np\n",
    "from bs4 import BeautifulSoup\n",
    "import time\n",
    "import json\n",
    "import pickle"
   ]
  },
  {
   "cell_type": "code",
   "execution_count": 2,
   "metadata": {
    "scrolled": true
   },
   "outputs": [],
   "source": [
    "#based on the variability of tags, it'll be most efficient to download csvs from AO3 and append the story text \n",
    "soup_0005 = BeautifulSoup(open('Fanfic_HTML/0005.html'), \"html.parser\")\n",
    "soup_13Heirs = BeautifulSoup(open('Fanfic_HTML/13 Heirs.html'), \"html.parser\")\n",
    "soup_WizardComes = BeautifulSoup(open('Fanfic_HTML/In Which A Wizard Comes.html'), \"html.parser\")"
   ]
  },
  {
   "cell_type": "code",
   "execution_count": 3,
   "metadata": {},
   "outputs": [
    {
     "name": "stdout",
     "output_type": "stream",
     "text": [
      "37\n",
      "37\n",
      "33\n"
     ]
    }
   ],
   "source": [
    "print(len(soup_0005.find(class_=\"tags\")))\n",
    "print(len(soup_13Heirs.find(class_=\"tags\")))\n",
    "print(len(soup_WizardComes.find(class_=\"tags\")))"
   ]
  },
  {
   "cell_type": "code",
   "execution_count": 3,
   "metadata": {},
   "outputs": [
    {
     "data": {
      "text/plain": [
       "<dl class=\"tags\">\n",
       "<dt>Rating:</dt>\n",
       "<dd><a href=\"http://archiveofourown.org/tags/General%20Audiences\">General Audiences</a></dd>\n",
       "<dt>Archive Warning:</dt>\n",
       "<dd><a href=\"http://archiveofourown.org/tags/Choose%20Not%20To%20Use%20Archive%20Warnings\">Choose Not To Use Archive Warnings</a></dd>\n",
       "<dt>Category:</dt>\n",
       "<dd><a href=\"http://archiveofourown.org/tags/Gen\">Gen</a></dd>\n",
       "<dt>Fandom:</dt>\n",
       "<dd><a href=\"http://archiveofourown.org/tags/The%20Umbrella%20Academy%20(TV)\">The Umbrella Academy (TV)</a>, <a href=\"http://archiveofourown.org/tags/The%20Umbrella%20Academy%20(Comics)\">The Umbrella Academy (Comics)</a></dd>\n",
       "<dt>Character:</dt>\n",
       "<dd><a href=\"http://archiveofourown.org/tags/Number%20Five%20%7C%20The%20Boy%20(Umbrella%20Academy)\">Number Five | The Boy (Umbrella Academy)</a></dd>\n",
       "<dt>Additional Tags:</dt>\n",
       "<dd><a href=\"http://archiveofourown.org/tags/Eating%20Disorders\">Eating Disorders</a>, <a href=\"http://archiveofourown.org/tags/Eating%20Disorder%20Not%20Otherwise%20Specified\">Eating Disorder Not Otherwise Specified</a>, <a href=\"http://archiveofourown.org/tags/Implied*s*Referenced%20Alcohol%20Abuse*s*Alcoholism\">Implied/Referenced Alcohol Abuse/Alcoholism</a>, <a href=\"http://archiveofourown.org/tags/no%20beta%20we%20die%20like%20men\">no beta we die like men</a></dd>\n",
       "<dt>Series:</dt>\n",
       "<dd>Part 5 of\n",
       "<a href=\"http://archiveofourown.org/series/1345948\">Angsty Headcanon Ficlets</a></dd>\n",
       "<dt>Collections:</dt>\n",
       "<dd><a href=\"http://archiveofourown.org/collections/badthingshappenbingo\">Bad Things Happen Bingo</a></dd>\n",
       "<dt>Stats:</dt>\n",
       "<dd>\n",
       "        Published: 2019-04-28\n",
       "        Words: 327\n",
       "      </dd>\n",
       "</dl>"
      ]
     },
     "execution_count": 3,
     "metadata": {},
     "output_type": "execute_result"
    }
   ],
   "source": [
    "tags = (soup_0005.find(class_=\"tags\"))\n",
    "tags"
   ]
  },
  {
   "cell_type": "code",
   "execution_count": 14,
   "metadata": {},
   "outputs": [
    {
     "data": {
      "text/plain": [
       "False"
      ]
     },
     "execution_count": 14,
     "metadata": {},
     "output_type": "execute_result"
    }
   ],
   "source": [
    "\"\"\"def extractTagsClass(soup_obj):\n",
    "    #code to extract metadata (fandom, characters, tags, warning, etc.)\n",
    "    i = 0\n",
    "    for element in soup_obj.find(class_=\"tags\"):\n",
    "        if i == 3:\n",
    "            story_rating = element.string\n",
    "        elif i == 7:\n",
    "            story_archive_warning = element.string\n",
    "        elif i == 11:\n",
    "            story_category = element.string\n",
    "        elif i == 15:\n",
    "            raw_fandom_text = element.find_all('a')\n",
    "            for obj in raw_fandom_text:\n",
    "                fandom_text += obj.string + \", \"\n",
    "            fandom_text = fandom_text[:-2]\n",
    "        elif i == 19:\n",
    "            story_character = element.string\n",
    "        elif i == 23:\n",
    "            additionalTags = element.find_all('a')\n",
    "            for obj in additionalTags:\n",
    "                additionalTags_text += obj.string + \", \"\n",
    "            additionalTags_text = additionalTags_text[:-2]\n",
    "        elif i == 27:\n",
    "            story_series_name = element.find('a').string\n",
    "        elif i == 31:\n",
    "            story_collections = element.string\n",
    "        elif i == 35:\n",
    "            pub_stat = str(element.string).strip()\n",
    "            story_publish_date = pub_stat[11:21]\n",
    "            story_word_count = pub_stat[37:40]\n",
    "        i += 1\n",
    "   \n",
    "    return story_character, fandom_text, additionalTags_text, story_rating, story_archive_warning, story_category, story_series_name, story_collections, story_publish_date, story_word_count\"\"\""
   ]
  },
  {
   "cell_type": "code",
   "execution_count": 27,
   "metadata": {},
   "outputs": [
    {
     "data": {
      "text/plain": [
       "<!DOCTYPE html PUBLIC \"-//W3C//DTD XHTML 1.0 Strict//EN\" \"http://www.w3.org/TR/xhtml1/DTD/xhtml1-strict.dtd\">\n",
       "\n",
       "<html lang=\"en\" xml:lang=\"en\" xmlns=\"http://www.w3.org/1999/xhtml\">\n",
       "<head>\n",
       "<meta charset=\"utf-8\"/>\n",
       "<meta content=\"ie=edge\" http-equiv=\"x-ua-compatible\"/>\n",
       "<title>Swine and Forests - Sour_Idealist - Howl Series - Diana</title>\n",
       "<style type=\"text/css\">p.message{text-align:center}.meta h1{font-size:1.5em;text-align:center}.meta h2{font-size:1.25em;text-align:center}.meta h2{page-break-before:always}.meta .byline{text-align:center}.meta dl.tags{border:1px solid;padding:1em}.meta dd{margin:-1em 0 0 10em}.meta .endnote-link{font-size:.8em}#chapters{font-family:\"Nimbus Roman No9 L\",\"Times New Roman\",serif;padding:1em}.userstuff{font-family:\"Nimbus Roman No9 L\",\"Times New Roman\",serif;padding:1em}.toc-heading{display:none}</style>\n",
       "</head>\n",
       "<body>\n",
       "<div id=\"preface\">\n",
       "<h2 class=\"toc-heading\">Preface</h2>\n",
       "<p class=\"message\">\n",
       "<b>Swine and Forests</b><br/>\n",
       "    Posted originally on the <a href=\"http://archiveofourown.org/\">Archive of Our Own</a> at <a href=\"http://archiveofourown.org/works/222260\">http://archiveofourown.org/works/222260</a>.\n",
       "  </p>\n",
       "<div class=\"meta\">\n",
       "<dl class=\"tags\">\n",
       "<dt>Rating:</dt>\n",
       "<dd><a href=\"http://archiveofourown.org/tags/General%20Audiences\">General Audiences</a></dd>\n",
       "<dt>Archive Warning:</dt>\n",
       "<dd><a href=\"http://archiveofourown.org/tags/No%20Archive%20Warnings%20Apply\">No Archive Warnings Apply</a></dd>\n",
       "<dt>Category:</dt>\n",
       "<dd><a href=\"http://archiveofourown.org/tags/F*s*M\">F/M</a></dd>\n",
       "<dt>Fandom:</dt>\n",
       "<dd><a href=\"http://archiveofourown.org/tags/Howl%20Series%20-%20Diana%20Wynne%20Jones\">Howl Series - Diana Wynne Jones</a>, <a href=\"http://archiveofourown.org/tags/Enchanted%20Forest%20Chronicles%20-%20Patricia%20Wrede\">Enchanted Forest Chronicles - Patricia Wrede</a></dd>\n",
       "<dt>Relationship:</dt>\n",
       "<dd><a href=\"http://archiveofourown.org/tags/Sophie%20Hatter*s*Howl%20Pendragon\">Sophie Hatter/Howl Pendragon</a></dd>\n",
       "<dt>Character:</dt>\n",
       "<dd><a href=\"http://archiveofourown.org/tags/Howl%20Pendragon\">Howl Pendragon</a>, <a href=\"http://archiveofourown.org/tags/Sophie%20Hatter\">Sophie Hatter</a>, <a href=\"http://archiveofourown.org/tags/Calcifer%20(Howl%20Series)\">Calcifer (Howl Series)</a>, <a href=\"http://archiveofourown.org/tags/Cimorene%20(Enchanted%20Forest)\">Cimorene (Enchanted Forest)</a></dd>\n",
       "<dt>Additional Tags:</dt>\n",
       "<dd><a href=\"http://archiveofourown.org/tags/Crossover\">Crossover</a>, <a href=\"http://archiveofourown.org/tags/Women%20Being%20Awesome\">Women Being Awesome</a></dd>\n",
       "<dt>Stats:</dt>\n",
       "<dd>\n",
       "        Published: 2011-04-23\n",
       "        Words: 1220\n",
       "      </dd>\n",
       "</dl>\n",
       "<h1>Swine and Forests</h1>\n",
       "<div class=\"byline\">by <a href=\"http://archiveofourown.org/users/Sour_Idealist/pseuds/Sour_Idealist\" rel=\"author\">Sour_Idealist</a></div>\n",
       "<p>Summary</p>\n",
       "<blockquote class=\"userstuff\"><p>In which Sophie intimidates a forest and Howl is not melted despite a Queen's efforts.</p></blockquote>\n",
       "</div>\n",
       "</div>\n",
       "<div class=\"userstuff\" id=\"chapters\">\n",
       "<h2 class=\"toc-heading\">Swine and Forests</h2>\n",
       "<div class=\"userstuff\">\n",
       "<p>\n",
       "<strong></strong>\n",
       "</p><p>“Calcifer, where <em>is</em> this?” Sophie demanded, frowning at the forest.</p><p>“Beats <em>me,</em>” the fire demon muttered, bobbing along at her ear. “The thing ran out the door, I tried to send it someplace where it wouldn’t cause trouble. Apparently that ended up being here.”</p><p>“There’s a lot of magic around here, certainly,” Howl said, gesturing with one hand and wrapping his other arm around Sophie’s waist, as if he needed to distract everyone else to do it. Sophie rolled her eyes and leaned into him, smiling for a moment before she returned her attention to the woods.</p><p>“It looks like something was crashing about over there,” she said, pointing towards a clump of slightly squashed bushes. “Shall we look?”</p><p>They’d gone less than a hundred feet when Howl frowned and rubbed at his head.</p><p>“Calcifer, what are you doing back there?” he demanded, letting go of Sophie to twist around and glare at him. “Moving the castle someplace?”</p><p>“I’m not doing anything,” Calcifer protested. “I thought you were.”</p><p>“I most certainly am not. Sophie?”</p><p>“Not me,” she said, scowling. “What’s – <em>oh,</em> that feels <em>peculiar.</em>”</p><p>“Someone’s doing something big, moving something around –”</p><p>“It’s the <em>forest</em>,” Sophie realized, and smacked the nearest tree trunk as hard as she could. “Stop that this instant!”</p><p>The strange sea-sick feeling at the back of her head stopped rather abruptly.</p><p>“Thank you, Sophie,” Howl said, kissing her hand with most of his usual elegance. She reclaimed her fingers somewhat reluctantly, still concerned with what exactly had just happened.</p><p>“Er.” Calcifer drifted as close to their heads as he safely could, crackling anxiously. “There’s a bit of a problem.”</p><p>“What do you mean?” Sophie asked.</p><p>“The doorway isn’t where we left it.”</p><p><em> “What?”</em> Howl and Sophie both squawked.</p><p>“Yes. Someone moved it.”</p><p>“But that looked like the doorway to a <em>cave!</em>” Sophie protested. “You said you didn’t even know how you hooked the castle doorway into there. And now somebody’s – made off with it?”</p><p>“It feels like the entire clearing isn’t there anymore,” Calcifer said.</p><p>There may have been some swearing at this point.</p><p>Suddenly the dizzy seasick feeling was back, stronger than ever, and the entire forest felt rather unreliable for a lot of land. “Oh no you <em>don’t!</em>” Sophie snarled, digging her heels into the moss and gesturing indignantly at the surrounding greenery; for a moment she felt rather as if she were pulling very, very hard on a giant piece of elastic, and then there was a loud <em>pop</em> as it felt like everything shook and went solid at once. She stumbled backward, arms windmilling; next to her, Howl half sat down and half fell over.</p><p>It was at this point that Sophie realized that someone else had appeared: a young woman – no, not exactly young, around forty; Sophie had been her proper age for nearly six months, but she still sometimes got a bit vague about relative ages – with mostly-black hair, sturdy russet trousers, and a distinctly queasy expression.</p><p>“Good heavens,” she gasped, bracing herself against a tree. “It’s never done that before.” She glanced at them, eyes widening when she saw Calcifer. “Who are you?”</p><p>“Er.” Sophie paused. “I’m Sophie Hatter, and this is my, um, fiancé, the Wizard Howl –”</p><p>“Argelfraster!” There was another, different sense of strong magic going past, and then a strong smell of lemon as soap and water exploded all over Howl, who squawked incoherently. The woman frowned.</p><p>“What on earth are you doing?” Sophie demanded. “I assure you, he was perfectly clean.”</p><p>“It wasn’t supposed to do that,” the woman protested.</p><p>“Well, what was it supposed to do, irritate me to death?” Howl demanded, wringing out his sleeves.</p><p>“Melt him.”</p><p>“<em>Melt</em> me?”</p><p>“Hold on. If you’re a wizard, where’s your staff?”</p><p>“I don’t have one. They just get in the way.”</p><p>“For goodness’ – how are you a wizard if you don’t have a staff?”</p><p>“Since when do we have to have a staff?”</p><p>The woman looked at him as if he were very stupid indeed. “Every wizard I have ever met, in the Society or not, has had a staff. How do you do your magic without one?”</p><p>“The same way every other wizard, sorcerer, or magician in the –”</p><p>“Those are three entirely different things,” she protested. “If it weren’t for the forest, I’d think you weren’t really magic at all.”</p><p>Sophie was beginning to get a rather nasty feeling. “Calcifer,” she asked again, “where exactly have you brought us?”</p><p>Calcifer’s flames flickered sheepishly. “Er. I think it may be another world.”</p><p>Everyone blinked at this.</p><p>“Perhaps we had better start again,” the woman said at last. “I’m Cimorene. Sophie, Howl, and –”</p><p>“That’s Calcifer,” Sophie explained. “He’s a fire demon – oh, don’t worry, he’s quite harmless. Mostly.”</p><p>“Care to explain why you melt wizards on sight?” Howl huffed, still wringing out his hair.</p><p>“Ah. Well. We’ve been at war with them for some time, you see, and they’ve caused us… quite a bit of trouble.” Cimorene shut her eyes for a moment. “Anyway, I’m very pleased to meet you, and I’m sorry about the melting. And, for reference, your, er, fire demon has landed you in the Enchanted Forest.”</p><p>“What fool went and enchanted an entire forest?” Howl muttered, fiddling with his shirt.</p><p>“Nobody did. It just – grows this way. It’s a bit complicated. And usually it doesn’t let people in, particularly not powerfully magical people – it seems quite upset about finding you here.”</p><p>“It moved our door,” Calcifer grumbled. “If that was it.”</p><p>“It probably was. It does things like that. Listen, you three had better come back to the palace with me – Mendanbar will definitely want to meet you, and he can probably help you find your door again, too.”<br/></p><p>“Who’s Mendanbar?” Sophie asked, pulling Howl to his feet.</p><p>Cimorene smiled. “My husband. He’s also the king of the forest, which is why –”</p><p>“King? Ah –” Sophie fumbled quickly for her skirts, wishing she’d been a bit more polite. Cimorene flapped a hand at her impatiently.</p><p>“Oh, don’t waste time with any of that nonsense. Yes, technically I’m the queen, but nobody makes much of a fuss about it here.”</p><p>“Oh. Well then.” Sophie straightened up and followed Cimorene, feeling a bit foolish and more than a bit unsettled. Howl and Calcifer followed.</p><p>“Why exactly did you end up here, anyway?” Cimorene asked conversationally as they walked.</p><p>“We had a bit of an accident with a rather vicious flying pig,” Howl said before Sophie could answer. Cimorene blinked.</p><p>“What sort of accident?”</p><p>“We got one, for a start,” Howl grumped.</p><p>“And then it got loose,” Calcifer supplied. “And went out the enchanted door – I’m in charge of the door. I sent it the first place I could think of that it wouldn’t cause any riots, and then we had to chase it.”</p><p>“I see. Well, I don’t think it will cause too much trouble around here.”</p><p>“<em>Here</em> seems to be, at the very least, interesting,” Howl said, poking at a nearby vine that shimmered oddly and felt entirely magical. Cimorene smiled.</p><p>“Interesting is the least of it. And if that thing isn’t trying to bite you, then I think you’ll fit in beautifully while you’re here.”</p><p>Sophie smiled back, finding, to her surprise, that she wanted to know more about this odd queen and her forest.</p>\n",
       "</div>\n",
       "</div>\n",
       "<div id=\"afterword\">\n",
       "<h2 class=\"toc-heading\">Afterword</h2>\n",
       "<p class=\"message\">Please <a href=\"http://archiveofourown.org/works/222260/comments/new\">drop by the archive and comment</a> to let the author know if you enjoyed their work!</p>\n",
       "</div>\n",
       "</body>\n",
       "</html>"
      ]
     },
     "execution_count": 27,
     "metadata": {},
     "output_type": "execute_result"
    }
   ],
   "source": [
    "soup_SwineForests = BeautifulSoup(open('Fanfic_HTML/Swine and Forests.html'), \"html.parser\")\n",
    "soup_SwineForests"
   ]
  },
  {
   "cell_type": "code",
   "execution_count": 28,
   "metadata": {},
   "outputs": [
    {
     "name": "stdout",
     "output_type": "stream",
     "text": [
      "<title>Swine and Forests - Sour_Idealist - Howl Series - Diana</title>\n"
     ]
    }
   ],
   "source": [
    "print(soup_SwineForests.title)"
   ]
  },
  {
   "cell_type": "code",
   "execution_count": 31,
   "metadata": {},
   "outputs": [
    {
     "name": "stdout",
     "output_type": "stream",
     "text": [
      "['<title>Swine and Forests ', ' Sour_Idealist ', ' Howl Series ', ' Diana</title>']\n"
     ]
    }
   ],
   "source": [
    "print(soup_SwineForests.title.string.split('-'))"
   ]
  },
  {
   "cell_type": "code",
   "execution_count": null,
   "metadata": {},
   "outputs": [],
   "source": [
    "print(soup_WizardComes.find(class_=\"tags\"))"
   ]
  },
  {
   "cell_type": "markdown",
   "metadata": {},
   "source": [
    "json data = \n",
    "Title\n",
    "AO3 link\n",
    "Rating\n",
    "Warning\n",
    "Audience Category\n",
    "Fandom(s)\n",
    "Characters\n",
    "Tags\n",
    "Series\n",
    "Collections\n",
    "Publish Date\n",
    "Text Length"
   ]
  },
  {
   "cell_type": "code",
   "execution_count": 15,
   "metadata": {},
   "outputs": [],
   "source": [
    "def extractFandoms(element):\n",
    "    #code to extract fandoms\n",
    "    raw_fandom_text = element.find_all('a')\n",
    "            for obj in raw_fandom_text:\n",
    "                fandom_text += obj.string + \", \"\n",
    "            fandom_text = fandom_text[:-2]\n",
    "    print(fandom_text)\n",
    "\n",
    "    return fandom_text\n",
    "                \n",
    "def extractAddTags(element):\n",
    "    #code to extract tags\n",
    "    additionalTags = element.find_all('a')\n",
    "    for obj in additionalTags:\n",
    "        additionalTags_text += obj.string + \", \"\n",
    "    additionalTags_text = additionalTags_text[:-2]\n",
    "    print(additionalTags_text)\n",
    "\n",
    "    return additionalTags_text\n",
    "    \n",
    "def extractStoryRating(element):\n",
    "    #code to extract story rating\n",
    "    story_rating = element.string\n",
    "    print(story_rating)\n",
    "            \n",
    "    return story_rating\n",
    "            \n",
    "def extractArchiveWarning(element):\n",
    "    story_archive_warning = element.string\n",
    "    print(story_archive_warning)\n",
    "\n",
    "    return story_archive_warning\n",
    "            \n",
    "def extractCategory(element):\n",
    "    #code to extract category\n",
    "    story_category = element.string\n",
    "    print(story_category)\n",
    "\n",
    "    return story_category\n",
    "            \n",
    "def extractCharacters(element):\n",
    "    #code to extract characters\n",
    "    story_character = element.string\n",
    "    print(story_character)\n",
    "            \n",
    "    return story_character\n",
    "            \n",
    "def extractSeries(element):\n",
    "    story_series_name = element.string\n",
    "    print(story_series_name)\n",
    "    \n",
    "    return story_series_name\n",
    "    \n",
    "def extractCollections(element):\n",
    "    #code to extract collections\n",
    "    story_collections = element.string\n",
    "    print(story_collections)\n",
    "    \n",
    "    return story_collections\n",
    "\n",
    "def extractPubStats(element):\n",
    "    #code to extract publication stats\n",
    "    pub_stat = str(element.string).strip()\n",
    "    story_publish_date = pub_stat[11:21]\n",
    "    story_word_count = pub_stat[37:40]\n",
    "    print(story_publish_date)\n",
    "    print(story_word_count)\n",
    "    \n",
    "    return story_publish_date, story_word_count"
   ]
  },
  {
   "cell_type": "code",
   "execution_count": 11,
   "metadata": {},
   "outputs": [],
   "source": [
    "tags_dict = {}\n",
    "\n",
    "def extractTags(soup_obj):\n",
    "    #code to extract metadata (fandom, characters, tags, warning, etc.)\n",
    "    fandom_text = \"\"\n",
    "    additionalTags_text = \"\"\n",
    "    rating = np.nan\n",
    "    archiveWarning = np.nan\n",
    "    category = np.nan\n",
    "    fandoms = np.nan\n",
    "    characters = np.nan\n",
    "    series = np.nan\n",
    "    collections = np.nan\n",
    "    pubDate = np.nan\n",
    "    wordCount = np.nan\n",
    "    tags = soup_obj.find(class_=\"tags\")\n",
    "    for element in tags:\n",
    "        if tags.find(text=\"Rating:\") == \"Rating:\":\n",
    "            rating = extractStoryRating(element)\n",
    "        \n",
    "        elif tags.find(text=\"Archive Warning:\") == \"Archive Warning:\":\n",
    "            archiveWarning = extractArchiveWarning(element)\n",
    "        \n",
    "        elif tags.find(text=\"Category:\") == \"Category:\":\n",
    "            category = extractCategory(element)\n",
    "        \n",
    "        elif tags.find(text=\"Fandom:\") == \"Fandom:\":\n",
    "            fandoms = extractFandoms(element)\n",
    "            \n",
    "        elif tags.find(text=\"Character:\") == \"Character:\":\n",
    "            characters = extractCharacters(element)\n",
    "            \n",
    "        elif tags.find(text=\"Additional Tags:\") == \"Additional Tags:\":\n",
    "            additionalTags_text = extractAddTags(element)\n",
    "                \n",
    "        elif tags.find(text=\"Series:\") == \"Series:\":\n",
    "            series = extractSeries(element)\n",
    "                \n",
    "        elif tags.find(text=\"Collections:\") == \"Collections:\":\n",
    "            collections = extractCollections(element)\n",
    "            \n",
    "        elif tags.find(text=\"Stats:\") == \"Stats:\":\n",
    "            pubDate, wordCount = extractPubStats(element)\n",
    "        \n",
    "        tags_dict[\"archive_warning\"] = archiveWarning\n",
    "        tags_dict[\"category\"] = category\n",
    "        tags_dict[\"fandoms\"] = fandoms\n",
    "        tags_dict[\"characters\"] = characters\n",
    "        tags_dict[\"additional_tags\"] = additionalTags_text\n",
    "        tags_dict['rating'] = rating\n",
    "        tags_dict[\"series\"] = series\n",
    "        tags_dict[\"collections\"] = collections\n",
    "        tags_dict[\"publish_date\"] = pubDate \n",
    "        tags_dict[\"word_count\"] = wordCount\n",
    "    \n",
    "    return tags_dict"
   ]
  },
  {
   "cell_type": "code",
   "execution_count": 17,
   "metadata": {},
   "outputs": [
    {
     "name": "stdout",
     "output_type": "stream",
     "text": [
      "\n",
      "\n",
      "Rating:\n",
      "\n",
      "\n",
      "General Audiences\n",
      "\n",
      "\n",
      "Archive Warning:\n",
      "\n",
      "\n",
      "Choose Not To Use Archive Warnings\n",
      "\n",
      "\n",
      "Category:\n",
      "\n",
      "\n",
      "Gen\n",
      "\n",
      "\n",
      "Fandom:\n",
      "\n",
      "\n",
      "None\n",
      "\n",
      "\n",
      "Character:\n",
      "\n",
      "\n",
      "Number Five | The Boy (Umbrella Academy)\n",
      "\n",
      "\n",
      "Additional Tags:\n",
      "\n",
      "\n",
      "None\n",
      "\n",
      "\n",
      "Series:\n",
      "\n",
      "\n",
      "None\n",
      "\n",
      "\n",
      "Collections:\n",
      "\n",
      "\n",
      "Bad Things Happen Bingo\n",
      "\n",
      "\n",
      "Stats:\n",
      "\n",
      "\n",
      "\n",
      "        Published: 2019-04-28\n",
      "        Words: 327\n",
      "      \n",
      "\n",
      "\n"
     ]
    },
    {
     "data": {
      "text/plain": [
       "{'archive_warning': nan,\n",
       " 'category': nan,\n",
       " 'fandoms': nan,\n",
       " 'characters': nan,\n",
       " 'additional_tags': '',\n",
       " 'rating': '\\n',\n",
       " 'series': nan,\n",
       " 'collections': nan,\n",
       " 'publish_date': nan,\n",
       " 'word_count': nan}"
      ]
     },
     "execution_count": 17,
     "metadata": {},
     "output_type": "execute_result"
    }
   ],
   "source": [
    "tags_dictionary = extractTags(soup_0005)\n",
    "tags_dictionary"
   ]
  },
  {
   "cell_type": "code",
   "execution_count": 29,
   "metadata": {},
   "outputs": [],
   "source": [
    "character, fandom_text, additionalTags_text, story_rating, story_archive_warning, story_category, story_series_name, story_collections, story_publish_date, story_word_count = extractTags(soup)"
   ]
  },
  {
   "cell_type": "code",
   "execution_count": 30,
   "metadata": {},
   "outputs": [
    {
     "data": {
      "text/plain": [
       "'2019-04-28'"
      ]
     },
     "execution_count": 30,
     "metadata": {},
     "output_type": "execute_result"
    }
   ],
   "source": [
    "story_publish_date"
   ]
  },
  {
   "cell_type": "code",
   "execution_count": 43,
   "metadata": {},
   "outputs": [],
   "source": [
    "def extractAuthor(soup_obj):\n",
    "    #code to extract author and fandom info\n",
    "    for info in soup_obj.title:\n",
    "        print(info)\n",
    "        author = str(info).split('-')[1]\n",
    "        author = author.strip()\n",
    "    return author\n",
    "    \n",
    "\n",
    "def extractTitleStory(soup_obj):\n",
    "    #code to extract title and story text\n",
    "    i = 0\n",
    "    story_text = \"\"\n",
    "    for element in soup_obj.find(id=\"chapters\"):\n",
    "        if i == 1:\n",
    "            title = element.string\n",
    "        elif i == 3:\n",
    "            story_ptag_text = element.find_all('p')\n",
    "            for obj in story_ptag_text:\n",
    "                if obj.string == None:\n",
    "                    continue\n",
    "                else:\n",
    "                    story_text += str(obj.string) + \" \"\n",
    "        i += 1\n",
    "    return title, story_text\n",
    "        \n",
    "def extractTags(soup_obj):\n",
    "    #code to extract metadata (fandom, characters, tags, warning, etc.)\n",
    "    i = 0\n",
    "    fandom_text = \"\"\n",
    "    additionalTags_text = \"\"\n",
    "    rating = np.nan\n",
    "    archiveWarning = np.nan\n",
    "    category = np.nan\n",
    "    fandoms = np.nan\n",
    "    characters = np.nan\n",
    "    series = np.nan\n",
    "    collections = np.nan\n",
    "    pubDate = np.nan\n",
    "    wordCount = np.nan\n",
    "    for element in soup_obj.find(class_=\"tags\"):\n",
    "        if i == 3:\n",
    "            story_rating = element.string\n",
    "        elif i == 7:\n",
    "            story_archive_warning = element.string\n",
    "        elif i == 11:\n",
    "            story_category = element.string\n",
    "        elif i == 15:\n",
    "            raw_fandom_text = element.find_all('a')\n",
    "            for obj in raw_fandom_text:\n",
    "                fandom_text += obj.string + \", \"\n",
    "            fandom_text = fandom_text[:-2]\n",
    "        elif i == 19:\n",
    "            story_character = element.string\n",
    "        elif i == 23:\n",
    "            additionalTags = element.find_all('a')\n",
    "            for obj in additionalTags:\n",
    "                additionalTags_text += obj.string + \", \"\n",
    "            additionalTags_text = additionalTags_text[:-2]\n",
    "        #elif i == 27:\n",
    "        #    story_series_name = element.find('a').string\n",
    "        #elif i == 31:\n",
    "        #    story_collections = element.string\n",
    "        elif soup_obj.find(text=\"Stats:\") == \"Stats:\":\n",
    "            pub_stat = str(element.string).strip()\n",
    "            story_publish_date = pub_stat[11:21]\n",
    "            story_word_count = pub_stat[37:40]\n",
    "        i += 1\n",
    "   \n",
    "    return story_character, fandom_text, additionalTags_text, story_rating, story_archive_warning, story_category, story_publish_date, story_word_count #, story_series_name, story_collections\n",
    "\n",
    "def extractStoryURL(soup_obj): \n",
    "    #code to extract story URL\n",
    "    i = 0\n",
    "    for element in soup_obj.find(class_=\"message\"):\n",
    "        i += 1\n",
    "        if i == 7:\n",
    "            url = element['href']\n",
    "\n",
    "        else:\n",
    "            continue\n",
    "    return url\n",
    "\n",
    "def createAO3dict(filelist):\n",
    "    i = 0\n",
    "    ao3_dict = {}\n",
    "    for element in filelist:\n",
    "        soup = BeautifulSoup(open(element), \"html.parser\")\n",
    "        url = extractStoryURL(soup)\n",
    "        story_text = extractTitleStory(soup)\n",
    "        character, fandom_text, additionalTags_text, rating, archive_warning, category, pub_date, word_count = extractTags(soup) #, story_series_name, story_collections\n",
    "        author = extractAuthor(soup)\n",
    "        title, story_text = extractTitleStory(soup)\n",
    "        \n",
    "        story_dict = {'title': title,\n",
    "                      'author': author,\n",
    "                      'story_text': story_text, \n",
    "                      'character': character, \n",
    "                      'url': url,\n",
    "                      'fandom' : fandom_text,\n",
    "                      'additionalTags': additionalTags_text, \n",
    "                      'rating' : rating, \n",
    "                      'archiveWarnings': archive_warning, \n",
    "                      'category' : category, \n",
    "                      'pub_date' : pub_date, \n",
    "                      'word_count' : word_count\n",
    "           }\n",
    "        ao3_dict['i'] = story_dict\n",
    "        i += 1\n",
    "    return ao3_dict"
   ]
  },
  {
   "cell_type": "code",
   "execution_count": 23,
   "metadata": {},
   "outputs": [],
   "source": [
    "fanfics = ['Fanfic_HTML/13 Heirs.html', 'Fanfic_HTML/In Which A Wizard Comes.html', 'Fanfic_HTML/Sweet Basil and Italian.html', \n",
    "           'Fanfic_HTML/5 6 7 The Umbrella.html', 'Fanfic_HTML/In Which A Wizard Is.html', 'Fanfic_HTML/Swine and Forests.html',\n",
    "           'Fanfic_HTML/50 Truths of the.html', 'Fanfic_HTML/In Which Calcifer Meets.html', 'Fanfic_HTML/Symbol of Reform.html',\n",
    "           'Fanfic_HTML/A Bakers Proposal.html', 'Fanfic_HTML/In Which Howl Attracts.html', 'Fanfic_HTML/Sympathy.html']"
   ]
  },
  {
   "cell_type": "code",
   "execution_count": 44,
   "metadata": {},
   "outputs": [
    {
     "name": "stdout",
     "output_type": "stream",
     "text": [
      "13 Heirs - mayachain - Leverage\n",
      "In Which A Wizard Comes - bobblemonkey2 - Multifandom\n",
      "Sweet Basil and Italian - jenna_thorn - Leverage\n",
      "5 6 7 The Umbrella - AthenaPantheon - The Umbrella Academy TV\n",
      "In Which A Wizard Is - bobblemonkey2 - Howls Moving Castle -\n",
      "Swine and Forests - Sour_Idealist - Howl Series - Diana\n",
      "50 Truths of the - GunpowderGelatin - The Umbrella Academy TV\n",
      "In Which Calcifer Meets - Untherius - Howl Series - Diana\n",
      "Symbol of Reform - cherryfeather - Hunger Games Trilogy -\n",
      "A Bakers Proposal - hanluvr - Hunger Games Trilogy -\n",
      "In Which Howl Attracts - bobblemonkey2 - Howl no Ugoku Shiro\n",
      "Sympathy - Tibby - Neverwhere - Gaiman\n"
     ]
    }
   ],
   "source": [
    "ao3_dictionary = createAO3dict(fanfics)"
   ]
  },
  {
   "cell_type": "code",
   "execution_count": 45,
   "metadata": {},
   "outputs": [
    {
     "data": {
      "text/plain": [
       "{'i': {'title': 'Sympathy',\n",
       "  'author': 'Tibby',\n",
       "  'story_text': 'Hunter rarely slept, but she knew it was essential to do so sometimes. She had to rest herself in order to stay alert. It was Door who pointed this out. It was Richard who volunteered to keep guard while she had her \"nap\". Hunter had given Richard a long, withering look that left him embarrassed and slightly cross. Even so, she nodded her agreement. Always, as Hunter\\'s consciousness drifted, her thoughts would turn to the women she\\'d known. It was the last grasp of the waking mind. These were the beings she wanted to dream of. At her call, they appeared. At first. But by the time she was fully asleep, they would be gone. They faded into the darkness and, this time, all that she was left with were three rheumy red eyes peering at her from behind steamy breath. Hunter tightened the fingers that held her spear. Every night her adversary came. The adversary varied. Tonight it was the lizard she had met beneath Tokyo. His long, black tentacles stretched forward, more like a yawn than an attack. He was taking his time. Hunter could read this creature\\'s mind. She could feel the signals running through the nerves in his tense, powerful body. He was the kind Hunter could understand. The girls. The women. They were different. They broke your heart, or you broke theirs, and neither of you understood why. There was another figure, who appeared to Hunter\\'s eyes as they became accustomed to the darkness. It was small. It stared. It made Hunter feel uncomfortable, but she stared back. Their eyes met in one natural movement - wide, white eye on wide, white eye. Hunter knew that she would not be looking into the eye of the beast when the blood burst from her skin. She would be looking into the eyes of that pale, elfin face. In her dream, that was how events unfurled. *** When Hunter woke, she was still standing. Richard Mayhew, however, was propped up against a wall, clearly asleep. The Lady Door was lying next to him, knees tucked up close to her chin and barely visible amid her own clothes. Hunter stood and watched her for the twenty seconds or so it took for her to fully wake. Then she returned to her job. ',\n",
       "  'character': 'Hunter/Door',\n",
       "  'url': 'http://archiveofourown.org/works/48750',\n",
       "  'fandom': 'Neverwhere - Gaiman',\n",
       "  'additionalTags': 'Hunter (Neverwhere), Door (Neverwhere), Richard Mayhew',\n",
       "  'rating': 'General Audiences',\n",
       "  'archiveWarnings': 'No Archive Warnings Apply',\n",
       "  'category': 'F/F',\n",
       "  'pub_date': '',\n",
       "  'word_count': ''}}"
      ]
     },
     "execution_count": 45,
     "metadata": {},
     "output_type": "execute_result"
    }
   ],
   "source": [
    "ao3_dictionary"
   ]
  },
  {
   "cell_type": "code",
   "execution_count": 140,
   "metadata": {},
   "outputs": [
    {
     "data": {
      "text/html": [
       "<div>\n",
       "<style scoped>\n",
       "    .dataframe tbody tr th:only-of-type {\n",
       "        vertical-align: middle;\n",
       "    }\n",
       "\n",
       "    .dataframe tbody tr th {\n",
       "        vertical-align: top;\n",
       "    }\n",
       "\n",
       "    .dataframe thead th {\n",
       "        text-align: right;\n",
       "    }\n",
       "</style>\n",
       "<table border=\"1\" class=\"dataframe\">\n",
       "  <thead>\n",
       "    <tr style=\"text-align: right;\">\n",
       "      <th></th>\n",
       "      <th>0</th>\n",
       "    </tr>\n",
       "  </thead>\n",
       "  <tbody>\n",
       "    <tr>\n",
       "      <th>title</th>\n",
       "      <td>00.05</td>\n",
       "    </tr>\n",
       "    <tr>\n",
       "      <th>author</th>\n",
       "      <td>verybi_verytired</td>\n",
       "    </tr>\n",
       "    <tr>\n",
       "      <th>story_text</th>\n",
       "      <td>He was hungry. Always so hungry. He wasn’t exa...</td>\n",
       "    </tr>\n",
       "    <tr>\n",
       "      <th>rating</th>\n",
       "      <td>General Audiences</td>\n",
       "    </tr>\n",
       "    <tr>\n",
       "      <th>archive_warning</th>\n",
       "      <td>Choose Not To Use Archive Warnings</td>\n",
       "    </tr>\n",
       "    <tr>\n",
       "      <th>category</th>\n",
       "      <td>Gen</td>\n",
       "    </tr>\n",
       "    <tr>\n",
       "      <th>fandom_text</th>\n",
       "      <td>The Umbrella Academy (TV), The Umbrella Academ...</td>\n",
       "    </tr>\n",
       "    <tr>\n",
       "      <th>character</th>\n",
       "      <td>Number Five | The Boy (Umbrella Academy)</td>\n",
       "    </tr>\n",
       "    <tr>\n",
       "      <th>additionalTags_text</th>\n",
       "      <td>Eating Disorders, Eating Disorder Not Otherwis...</td>\n",
       "    </tr>\n",
       "    <tr>\n",
       "      <th>series_name</th>\n",
       "      <td>Angsty Headcanon Ficlets</td>\n",
       "    </tr>\n",
       "    <tr>\n",
       "      <th>collections</th>\n",
       "      <td>Bad Things Happen Bingo</td>\n",
       "    </tr>\n",
       "    <tr>\n",
       "      <th>pub_date</th>\n",
       "      <td>2019-04-28</td>\n",
       "    </tr>\n",
       "    <tr>\n",
       "      <th>word_count</th>\n",
       "      <td>327</td>\n",
       "    </tr>\n",
       "    <tr>\n",
       "      <th>url</th>\n",
       "      <td>http://archiveofourown.org/works/18632218</td>\n",
       "    </tr>\n",
       "  </tbody>\n",
       "</table>\n",
       "</div>"
      ],
      "text/plain": [
       "                                                                     0\n",
       "title                                                            00.05\n",
       "author                                                verybi_verytired\n",
       "story_text           He was hungry. Always so hungry. He wasn’t exa...\n",
       "rating                                               General Audiences\n",
       "archive_warning                     Choose Not To Use Archive Warnings\n",
       "category                                                           Gen\n",
       "fandom_text          The Umbrella Academy (TV), The Umbrella Academ...\n",
       "character                     Number Five | The Boy (Umbrella Academy)\n",
       "additionalTags_text  Eating Disorders, Eating Disorder Not Otherwis...\n",
       "series_name                                   Angsty Headcanon Ficlets\n",
       "collections                                    Bad Things Happen Bingo\n",
       "pub_date                                                    2019-04-28\n",
       "word_count                                                         327\n",
       "url                          http://archiveofourown.org/works/18632218"
      ]
     },
     "execution_count": 140,
     "metadata": {},
     "output_type": "execute_result"
    }
   ],
   "source": [
    "ao3_df = pd.DataFrame.from_dict(ao3_data)\n",
    "ao3_df"
   ]
  },
  {
   "cell_type": "code",
   "execution_count": 137,
   "metadata": {},
   "outputs": [
    {
     "name": "stdout",
     "output_type": "stream",
     "text": [
      "{\n",
      "    \"title\": \"00.05\",\n",
      "    \"author\": \"verybi_verytired\",\n",
      "    \"story_text\": \"He was hungry. Always so hungry. He wasn\\u2019t exactly sure why he was doing this to himself. He didn\\u2019t want or need to lose weight, there was always plenty of food, and everyone else was well fed and happy. So why couldn\\u2019t he bring himself to eat? During the apocalypse, he barely ate. It was rare that he was full, and when he was full he tended to get sick, his stomach not used to the amount of food in it. Within a year or two of arriving in the ruins of the city, he was used to passing out from a lack of food or water. After he started working as a time travelling assassin he thought it would get better. He was wrong. For some reason, even when literally surrounded by food, he found himself sick at the idea of eating it. Food tasted too good, too strong and it felt weird in his mouth, the textures too much for him to handle. The weight of it in his stomach made him want to curl up or get sick \\u2013 more than once he\\u2019d had to make himself throw up when that feeling got too strong. Getting back to his family, in his 13-year-old body, didn\\u2019t seem to help either. The only real difference was that this body felt the hunger in a way that he hadn\\u2019t experienced since the start of the apocalypse, years ago. He hated this. Hated that he couldn\\u2019t eat without panicking or throwing up. That he couldn\\u2019t eat without it feeling wrong. And yet this body ached to be fed and he felt sick when he didn\\u2019t eat. So he drank. A lot. Too much, really. It wasn\\u2019t exactly healthy, but at least he was consuming some calories, and after a drink or two he was usually numb enough that he could even get down a small amount of food. It wasn\\u2019t much but it was better than nothing, right? Right? \",\n",
      "    \"rating\": \"General Audiences\",\n",
      "    \"archive_warning\": \"Choose Not To Use Archive Warnings\",\n",
      "    \"category\": \"Gen\",\n",
      "    \"fandom_text\": \"The Umbrella Academy (TV), The Umbrella Academy (Comics)\",\n",
      "    \"character\": \"Number Five | The Boy (Umbrella Academy)\",\n",
      "    \"additionalTags_text\": \"Eating Disorders, Eating Disorder Not Otherwise Specified, Implied/Referenced Alcohol Abuse/Alcoholism, no beta we die like men\",\n",
      "    \"series_name\": \"Angsty Headcanon Ficlets\",\n",
      "    \"collections\": \"Bad Things Happen Bingo\",\n",
      "    \"pub_date\": \"2019-04-28\",\n",
      "    \"word_count\": \"327\",\n",
      "    \"url\": \"http://archiveofourown.org/works/18632218\"\n",
      "}\n"
     ]
    }
   ],
   "source": [
    "#code from https://www.geeksforgeeks.org/how-to-convert-python-dictionary-to-json/    \n",
    "# Serializing json    \n",
    "json_object = json.dumps(ao3_data, indent = 4)   \n",
    "print(json_object)"
   ]
  },
  {
   "cell_type": "code",
   "execution_count": 138,
   "metadata": {},
   "outputs": [
    {
     "ename": "ValueError",
     "evalue": "If using all scalar values, you must pass an index",
     "output_type": "error",
     "traceback": [
      "\u001b[0;31m---------------------------------------------------------------------------\u001b[0m",
      "\u001b[0;31mValueError\u001b[0m                                Traceback (most recent call last)",
      "\u001b[0;32m<ipython-input-138-fc42e8a8cad9>\u001b[0m in \u001b[0;36m<module>\u001b[0;34m\u001b[0m\n\u001b[0;32m----> 1\u001b[0;31m \u001b[0mao3_df\u001b[0m \u001b[0;34m=\u001b[0m \u001b[0mpd\u001b[0m\u001b[0;34m.\u001b[0m\u001b[0mread_json\u001b[0m\u001b[0;34m(\u001b[0m\u001b[0mjson_object\u001b[0m\u001b[0;34m,\u001b[0m \u001b[0morient\u001b[0m\u001b[0;34m=\u001b[0m\u001b[0;34m'columns'\u001b[0m\u001b[0;34m)\u001b[0m\u001b[0;34m\u001b[0m\u001b[0;34m\u001b[0m\u001b[0m\n\u001b[0m",
      "\u001b[0;32m~/opt/anaconda3/lib/python3.8/site-packages/pandas/util/_decorators.py\u001b[0m in \u001b[0;36mwrapper\u001b[0;34m(*args, **kwargs)\u001b[0m\n\u001b[1;32m    212\u001b[0m                 \u001b[0;32melse\u001b[0m\u001b[0;34m:\u001b[0m\u001b[0;34m\u001b[0m\u001b[0;34m\u001b[0m\u001b[0m\n\u001b[1;32m    213\u001b[0m                     \u001b[0mkwargs\u001b[0m\u001b[0;34m[\u001b[0m\u001b[0mnew_arg_name\u001b[0m\u001b[0;34m]\u001b[0m \u001b[0;34m=\u001b[0m \u001b[0mnew_arg_value\u001b[0m\u001b[0;34m\u001b[0m\u001b[0;34m\u001b[0m\u001b[0m\n\u001b[0;32m--> 214\u001b[0;31m             \u001b[0;32mreturn\u001b[0m \u001b[0mfunc\u001b[0m\u001b[0;34m(\u001b[0m\u001b[0;34m*\u001b[0m\u001b[0margs\u001b[0m\u001b[0;34m,\u001b[0m \u001b[0;34m**\u001b[0m\u001b[0mkwargs\u001b[0m\u001b[0;34m)\u001b[0m\u001b[0;34m\u001b[0m\u001b[0;34m\u001b[0m\u001b[0m\n\u001b[0m\u001b[1;32m    215\u001b[0m \u001b[0;34m\u001b[0m\u001b[0m\n\u001b[1;32m    216\u001b[0m         \u001b[0;32mreturn\u001b[0m \u001b[0mcast\u001b[0m\u001b[0;34m(\u001b[0m\u001b[0mF\u001b[0m\u001b[0;34m,\u001b[0m \u001b[0mwrapper\u001b[0m\u001b[0;34m)\u001b[0m\u001b[0;34m\u001b[0m\u001b[0;34m\u001b[0m\u001b[0m\n",
      "\u001b[0;32m~/opt/anaconda3/lib/python3.8/site-packages/pandas/io/json/_json.py\u001b[0m in \u001b[0;36mread_json\u001b[0;34m(path_or_buf, orient, typ, dtype, convert_axes, convert_dates, keep_default_dates, numpy, precise_float, date_unit, encoding, lines, chunksize, compression)\u001b[0m\n\u001b[1;32m    606\u001b[0m         \u001b[0;32mreturn\u001b[0m \u001b[0mjson_reader\u001b[0m\u001b[0;34m\u001b[0m\u001b[0;34m\u001b[0m\u001b[0m\n\u001b[1;32m    607\u001b[0m \u001b[0;34m\u001b[0m\u001b[0m\n\u001b[0;32m--> 608\u001b[0;31m     \u001b[0mresult\u001b[0m \u001b[0;34m=\u001b[0m \u001b[0mjson_reader\u001b[0m\u001b[0;34m.\u001b[0m\u001b[0mread\u001b[0m\u001b[0;34m(\u001b[0m\u001b[0;34m)\u001b[0m\u001b[0;34m\u001b[0m\u001b[0;34m\u001b[0m\u001b[0m\n\u001b[0m\u001b[1;32m    609\u001b[0m     \u001b[0;32mif\u001b[0m \u001b[0mshould_close\u001b[0m\u001b[0;34m:\u001b[0m\u001b[0;34m\u001b[0m\u001b[0;34m\u001b[0m\u001b[0m\n\u001b[1;32m    610\u001b[0m         \u001b[0mfilepath_or_buffer\u001b[0m\u001b[0;34m.\u001b[0m\u001b[0mclose\u001b[0m\u001b[0;34m(\u001b[0m\u001b[0;34m)\u001b[0m\u001b[0;34m\u001b[0m\u001b[0;34m\u001b[0m\u001b[0m\n",
      "\u001b[0;32m~/opt/anaconda3/lib/python3.8/site-packages/pandas/io/json/_json.py\u001b[0m in \u001b[0;36mread\u001b[0;34m(self)\u001b[0m\n\u001b[1;32m    729\u001b[0m             \u001b[0mobj\u001b[0m \u001b[0;34m=\u001b[0m \u001b[0mself\u001b[0m\u001b[0;34m.\u001b[0m\u001b[0m_get_object_parser\u001b[0m\u001b[0;34m(\u001b[0m\u001b[0mself\u001b[0m\u001b[0;34m.\u001b[0m\u001b[0m_combine_lines\u001b[0m\u001b[0;34m(\u001b[0m\u001b[0mdata\u001b[0m\u001b[0;34m.\u001b[0m\u001b[0msplit\u001b[0m\u001b[0;34m(\u001b[0m\u001b[0;34m\"\\n\"\u001b[0m\u001b[0;34m)\u001b[0m\u001b[0;34m)\u001b[0m\u001b[0;34m)\u001b[0m\u001b[0;34m\u001b[0m\u001b[0;34m\u001b[0m\u001b[0m\n\u001b[1;32m    730\u001b[0m         \u001b[0;32melse\u001b[0m\u001b[0;34m:\u001b[0m\u001b[0;34m\u001b[0m\u001b[0;34m\u001b[0m\u001b[0m\n\u001b[0;32m--> 731\u001b[0;31m             \u001b[0mobj\u001b[0m \u001b[0;34m=\u001b[0m \u001b[0mself\u001b[0m\u001b[0;34m.\u001b[0m\u001b[0m_get_object_parser\u001b[0m\u001b[0;34m(\u001b[0m\u001b[0mself\u001b[0m\u001b[0;34m.\u001b[0m\u001b[0mdata\u001b[0m\u001b[0;34m)\u001b[0m\u001b[0;34m\u001b[0m\u001b[0;34m\u001b[0m\u001b[0m\n\u001b[0m\u001b[1;32m    732\u001b[0m         \u001b[0mself\u001b[0m\u001b[0;34m.\u001b[0m\u001b[0mclose\u001b[0m\u001b[0;34m(\u001b[0m\u001b[0;34m)\u001b[0m\u001b[0;34m\u001b[0m\u001b[0;34m\u001b[0m\u001b[0m\n\u001b[1;32m    733\u001b[0m         \u001b[0;32mreturn\u001b[0m \u001b[0mobj\u001b[0m\u001b[0;34m\u001b[0m\u001b[0;34m\u001b[0m\u001b[0m\n",
      "\u001b[0;32m~/opt/anaconda3/lib/python3.8/site-packages/pandas/io/json/_json.py\u001b[0m in \u001b[0;36m_get_object_parser\u001b[0;34m(self, json)\u001b[0m\n\u001b[1;32m    751\u001b[0m         \u001b[0mobj\u001b[0m \u001b[0;34m=\u001b[0m \u001b[0;32mNone\u001b[0m\u001b[0;34m\u001b[0m\u001b[0;34m\u001b[0m\u001b[0m\n\u001b[1;32m    752\u001b[0m         \u001b[0;32mif\u001b[0m \u001b[0mtyp\u001b[0m \u001b[0;34m==\u001b[0m \u001b[0;34m\"frame\"\u001b[0m\u001b[0;34m:\u001b[0m\u001b[0;34m\u001b[0m\u001b[0;34m\u001b[0m\u001b[0m\n\u001b[0;32m--> 753\u001b[0;31m             \u001b[0mobj\u001b[0m \u001b[0;34m=\u001b[0m \u001b[0mFrameParser\u001b[0m\u001b[0;34m(\u001b[0m\u001b[0mjson\u001b[0m\u001b[0;34m,\u001b[0m \u001b[0;34m**\u001b[0m\u001b[0mkwargs\u001b[0m\u001b[0;34m)\u001b[0m\u001b[0;34m.\u001b[0m\u001b[0mparse\u001b[0m\u001b[0;34m(\u001b[0m\u001b[0;34m)\u001b[0m\u001b[0;34m\u001b[0m\u001b[0;34m\u001b[0m\u001b[0m\n\u001b[0m\u001b[1;32m    754\u001b[0m \u001b[0;34m\u001b[0m\u001b[0m\n\u001b[1;32m    755\u001b[0m         \u001b[0;32mif\u001b[0m \u001b[0mtyp\u001b[0m \u001b[0;34m==\u001b[0m \u001b[0;34m\"series\"\u001b[0m \u001b[0;32mor\u001b[0m \u001b[0mobj\u001b[0m \u001b[0;32mis\u001b[0m \u001b[0;32mNone\u001b[0m\u001b[0;34m:\u001b[0m\u001b[0;34m\u001b[0m\u001b[0;34m\u001b[0m\u001b[0m\n",
      "\u001b[0;32m~/opt/anaconda3/lib/python3.8/site-packages/pandas/io/json/_json.py\u001b[0m in \u001b[0;36mparse\u001b[0;34m(self)\u001b[0m\n\u001b[1;32m    855\u001b[0m \u001b[0;34m\u001b[0m\u001b[0m\n\u001b[1;32m    856\u001b[0m         \u001b[0;32melse\u001b[0m\u001b[0;34m:\u001b[0m\u001b[0;34m\u001b[0m\u001b[0;34m\u001b[0m\u001b[0m\n\u001b[0;32m--> 857\u001b[0;31m             \u001b[0mself\u001b[0m\u001b[0;34m.\u001b[0m\u001b[0m_parse_no_numpy\u001b[0m\u001b[0;34m(\u001b[0m\u001b[0;34m)\u001b[0m\u001b[0;34m\u001b[0m\u001b[0;34m\u001b[0m\u001b[0m\n\u001b[0m\u001b[1;32m    858\u001b[0m \u001b[0;34m\u001b[0m\u001b[0m\n\u001b[1;32m    859\u001b[0m         \u001b[0;32mif\u001b[0m \u001b[0mself\u001b[0m\u001b[0;34m.\u001b[0m\u001b[0mobj\u001b[0m \u001b[0;32mis\u001b[0m \u001b[0;32mNone\u001b[0m\u001b[0;34m:\u001b[0m\u001b[0;34m\u001b[0m\u001b[0;34m\u001b[0m\u001b[0m\n",
      "\u001b[0;32m~/opt/anaconda3/lib/python3.8/site-packages/pandas/io/json/_json.py\u001b[0m in \u001b[0;36m_parse_no_numpy\u001b[0;34m(self)\u001b[0m\n\u001b[1;32m   1086\u001b[0m \u001b[0;34m\u001b[0m\u001b[0m\n\u001b[1;32m   1087\u001b[0m         \u001b[0;32mif\u001b[0m \u001b[0morient\u001b[0m \u001b[0;34m==\u001b[0m \u001b[0;34m\"columns\"\u001b[0m\u001b[0;34m:\u001b[0m\u001b[0;34m\u001b[0m\u001b[0;34m\u001b[0m\u001b[0m\n\u001b[0;32m-> 1088\u001b[0;31m             self.obj = DataFrame(\n\u001b[0m\u001b[1;32m   1089\u001b[0m                 \u001b[0mloads\u001b[0m\u001b[0;34m(\u001b[0m\u001b[0mjson\u001b[0m\u001b[0;34m,\u001b[0m \u001b[0mprecise_float\u001b[0m\u001b[0;34m=\u001b[0m\u001b[0mself\u001b[0m\u001b[0;34m.\u001b[0m\u001b[0mprecise_float\u001b[0m\u001b[0;34m)\u001b[0m\u001b[0;34m,\u001b[0m \u001b[0mdtype\u001b[0m\u001b[0;34m=\u001b[0m\u001b[0;32mNone\u001b[0m\u001b[0;34m\u001b[0m\u001b[0;34m\u001b[0m\u001b[0m\n\u001b[1;32m   1090\u001b[0m             )\n",
      "\u001b[0;32m~/opt/anaconda3/lib/python3.8/site-packages/pandas/core/frame.py\u001b[0m in \u001b[0;36m__init__\u001b[0;34m(self, data, index, columns, dtype, copy)\u001b[0m\n\u001b[1;32m    433\u001b[0m             )\n\u001b[1;32m    434\u001b[0m         \u001b[0;32melif\u001b[0m \u001b[0misinstance\u001b[0m\u001b[0;34m(\u001b[0m\u001b[0mdata\u001b[0m\u001b[0;34m,\u001b[0m \u001b[0mdict\u001b[0m\u001b[0;34m)\u001b[0m\u001b[0;34m:\u001b[0m\u001b[0;34m\u001b[0m\u001b[0;34m\u001b[0m\u001b[0m\n\u001b[0;32m--> 435\u001b[0;31m             \u001b[0mmgr\u001b[0m \u001b[0;34m=\u001b[0m \u001b[0minit_dict\u001b[0m\u001b[0;34m(\u001b[0m\u001b[0mdata\u001b[0m\u001b[0;34m,\u001b[0m \u001b[0mindex\u001b[0m\u001b[0;34m,\u001b[0m \u001b[0mcolumns\u001b[0m\u001b[0;34m,\u001b[0m \u001b[0mdtype\u001b[0m\u001b[0;34m=\u001b[0m\u001b[0mdtype\u001b[0m\u001b[0;34m)\u001b[0m\u001b[0;34m\u001b[0m\u001b[0;34m\u001b[0m\u001b[0m\n\u001b[0m\u001b[1;32m    436\u001b[0m         \u001b[0;32melif\u001b[0m \u001b[0misinstance\u001b[0m\u001b[0;34m(\u001b[0m\u001b[0mdata\u001b[0m\u001b[0;34m,\u001b[0m \u001b[0mma\u001b[0m\u001b[0;34m.\u001b[0m\u001b[0mMaskedArray\u001b[0m\u001b[0;34m)\u001b[0m\u001b[0;34m:\u001b[0m\u001b[0;34m\u001b[0m\u001b[0;34m\u001b[0m\u001b[0m\n\u001b[1;32m    437\u001b[0m             \u001b[0;32mimport\u001b[0m \u001b[0mnumpy\u001b[0m\u001b[0;34m.\u001b[0m\u001b[0mma\u001b[0m\u001b[0;34m.\u001b[0m\u001b[0mmrecords\u001b[0m \u001b[0;32mas\u001b[0m \u001b[0mmrecords\u001b[0m\u001b[0;34m\u001b[0m\u001b[0;34m\u001b[0m\u001b[0m\n",
      "\u001b[0;32m~/opt/anaconda3/lib/python3.8/site-packages/pandas/core/internals/construction.py\u001b[0m in \u001b[0;36minit_dict\u001b[0;34m(data, index, columns, dtype)\u001b[0m\n\u001b[1;32m    252\u001b[0m             \u001b[0marr\u001b[0m \u001b[0;32mif\u001b[0m \u001b[0;32mnot\u001b[0m \u001b[0mis_datetime64tz_dtype\u001b[0m\u001b[0;34m(\u001b[0m\u001b[0marr\u001b[0m\u001b[0;34m)\u001b[0m \u001b[0;32melse\u001b[0m \u001b[0marr\u001b[0m\u001b[0;34m.\u001b[0m\u001b[0mcopy\u001b[0m\u001b[0;34m(\u001b[0m\u001b[0;34m)\u001b[0m \u001b[0;32mfor\u001b[0m \u001b[0marr\u001b[0m \u001b[0;32min\u001b[0m \u001b[0marrays\u001b[0m\u001b[0;34m\u001b[0m\u001b[0;34m\u001b[0m\u001b[0m\n\u001b[1;32m    253\u001b[0m         ]\n\u001b[0;32m--> 254\u001b[0;31m     \u001b[0;32mreturn\u001b[0m \u001b[0marrays_to_mgr\u001b[0m\u001b[0;34m(\u001b[0m\u001b[0marrays\u001b[0m\u001b[0;34m,\u001b[0m \u001b[0mdata_names\u001b[0m\u001b[0;34m,\u001b[0m \u001b[0mindex\u001b[0m\u001b[0;34m,\u001b[0m \u001b[0mcolumns\u001b[0m\u001b[0;34m,\u001b[0m \u001b[0mdtype\u001b[0m\u001b[0;34m=\u001b[0m\u001b[0mdtype\u001b[0m\u001b[0;34m)\u001b[0m\u001b[0;34m\u001b[0m\u001b[0;34m\u001b[0m\u001b[0m\n\u001b[0m\u001b[1;32m    255\u001b[0m \u001b[0;34m\u001b[0m\u001b[0m\n\u001b[1;32m    256\u001b[0m \u001b[0;34m\u001b[0m\u001b[0m\n",
      "\u001b[0;32m~/opt/anaconda3/lib/python3.8/site-packages/pandas/core/internals/construction.py\u001b[0m in \u001b[0;36marrays_to_mgr\u001b[0;34m(arrays, arr_names, index, columns, dtype)\u001b[0m\n\u001b[1;32m     62\u001b[0m     \u001b[0;31m# figure out the index, if necessary\u001b[0m\u001b[0;34m\u001b[0m\u001b[0;34m\u001b[0m\u001b[0;34m\u001b[0m\u001b[0m\n\u001b[1;32m     63\u001b[0m     \u001b[0;32mif\u001b[0m \u001b[0mindex\u001b[0m \u001b[0;32mis\u001b[0m \u001b[0;32mNone\u001b[0m\u001b[0;34m:\u001b[0m\u001b[0;34m\u001b[0m\u001b[0;34m\u001b[0m\u001b[0m\n\u001b[0;32m---> 64\u001b[0;31m         \u001b[0mindex\u001b[0m \u001b[0;34m=\u001b[0m \u001b[0mextract_index\u001b[0m\u001b[0;34m(\u001b[0m\u001b[0marrays\u001b[0m\u001b[0;34m)\u001b[0m\u001b[0;34m\u001b[0m\u001b[0;34m\u001b[0m\u001b[0m\n\u001b[0m\u001b[1;32m     65\u001b[0m     \u001b[0;32melse\u001b[0m\u001b[0;34m:\u001b[0m\u001b[0;34m\u001b[0m\u001b[0;34m\u001b[0m\u001b[0m\n\u001b[1;32m     66\u001b[0m         \u001b[0mindex\u001b[0m \u001b[0;34m=\u001b[0m \u001b[0mensure_index\u001b[0m\u001b[0;34m(\u001b[0m\u001b[0mindex\u001b[0m\u001b[0;34m)\u001b[0m\u001b[0;34m\u001b[0m\u001b[0;34m\u001b[0m\u001b[0m\n",
      "\u001b[0;32m~/opt/anaconda3/lib/python3.8/site-packages/pandas/core/internals/construction.py\u001b[0m in \u001b[0;36mextract_index\u001b[0;34m(data)\u001b[0m\n\u001b[1;32m    353\u001b[0m \u001b[0;34m\u001b[0m\u001b[0m\n\u001b[1;32m    354\u001b[0m         \u001b[0;32mif\u001b[0m \u001b[0;32mnot\u001b[0m \u001b[0mindexes\u001b[0m \u001b[0;32mand\u001b[0m \u001b[0;32mnot\u001b[0m \u001b[0mraw_lengths\u001b[0m\u001b[0;34m:\u001b[0m\u001b[0;34m\u001b[0m\u001b[0;34m\u001b[0m\u001b[0m\n\u001b[0;32m--> 355\u001b[0;31m             \u001b[0;32mraise\u001b[0m \u001b[0mValueError\u001b[0m\u001b[0;34m(\u001b[0m\u001b[0;34m\"If using all scalar values, you must pass an index\"\u001b[0m\u001b[0;34m)\u001b[0m\u001b[0;34m\u001b[0m\u001b[0;34m\u001b[0m\u001b[0m\n\u001b[0m\u001b[1;32m    356\u001b[0m \u001b[0;34m\u001b[0m\u001b[0m\n\u001b[1;32m    357\u001b[0m         \u001b[0;32mif\u001b[0m \u001b[0mhave_series\u001b[0m\u001b[0;34m:\u001b[0m\u001b[0;34m\u001b[0m\u001b[0;34m\u001b[0m\u001b[0m\n",
      "\u001b[0;31mValueError\u001b[0m: If using all scalar values, you must pass an index"
     ]
    }
   ],
   "source": [
    "ao3_df = pd.read_json(json_object, orient='columns')"
   ]
  },
  {
   "cell_type": "code",
   "execution_count": 114,
   "metadata": {},
   "outputs": [
    {
     "data": {
      "text/html": [
       "<div>\n",
       "<style scoped>\n",
       "    .dataframe tbody tr th:only-of-type {\n",
       "        vertical-align: middle;\n",
       "    }\n",
       "\n",
       "    .dataframe tbody tr th {\n",
       "        vertical-align: top;\n",
       "    }\n",
       "\n",
       "    .dataframe thead th {\n",
       "        text-align: right;\n",
       "    }\n",
       "</style>\n",
       "<table border=\"1\" class=\"dataframe\">\n",
       "  <thead>\n",
       "    <tr style=\"text-align: right;\">\n",
       "      <th></th>\n",
       "      <th>0</th>\n",
       "    </tr>\n",
       "  </thead>\n",
       "  <tbody>\n",
       "    <tr>\n",
       "      <th>title</th>\n",
       "      <td>00.05</td>\n",
       "    </tr>\n",
       "    <tr>\n",
       "      <th>author</th>\n",
       "      <td>verybi_verytired</td>\n",
       "    </tr>\n",
       "    <tr>\n",
       "      <th>story_text</th>\n",
       "      <td>He was hungry. Always so hungry. He wasn’t exa...</td>\n",
       "    </tr>\n",
       "    <tr>\n",
       "      <th>rating</th>\n",
       "      <td>General Audiences</td>\n",
       "    </tr>\n",
       "    <tr>\n",
       "      <th>archive_warning</th>\n",
       "      <td>Choose Not To Use Archive Warnings</td>\n",
       "    </tr>\n",
       "    <tr>\n",
       "      <th>category</th>\n",
       "      <td>Gen</td>\n",
       "    </tr>\n",
       "    <tr>\n",
       "      <th>fandom_text</th>\n",
       "      <td>[The Umbrella Academy (TV), The Umbrella Acade...</td>\n",
       "    </tr>\n",
       "    <tr>\n",
       "      <th>character</th>\n",
       "      <td>Number Five | The Boy (Umbrella Academy)</td>\n",
       "    </tr>\n",
       "    <tr>\n",
       "      <th>additionalTags_text</th>\n",
       "      <td>[Eating Disorders, Eating Disorder Not Otherwi...</td>\n",
       "    </tr>\n",
       "    <tr>\n",
       "      <th>series_name</th>\n",
       "      <td>Angsty Headcanon Ficlets</td>\n",
       "    </tr>\n",
       "    <tr>\n",
       "      <th>collections</th>\n",
       "      <td>Bad Things Happen Bingo</td>\n",
       "    </tr>\n",
       "    <tr>\n",
       "      <th>pub_date</th>\n",
       "      <td>2019-04-28</td>\n",
       "    </tr>\n",
       "    <tr>\n",
       "      <th>word_count</th>\n",
       "      <td>327</td>\n",
       "    </tr>\n",
       "    <tr>\n",
       "      <th>url</th>\n",
       "      <td>http://archiveofourown.org/works/18632218</td>\n",
       "    </tr>\n",
       "  </tbody>\n",
       "</table>\n",
       "</div>"
      ],
      "text/plain": [
       "                                                                     0\n",
       "title                                                            00.05\n",
       "author                                                verybi_verytired\n",
       "story_text           He was hungry. Always so hungry. He wasn’t exa...\n",
       "rating                                               General Audiences\n",
       "archive_warning                     Choose Not To Use Archive Warnings\n",
       "category                                                           Gen\n",
       "fandom_text          [The Umbrella Academy (TV), The Umbrella Acade...\n",
       "character                     Number Five | The Boy (Umbrella Academy)\n",
       "additionalTags_text  [Eating Disorders, Eating Disorder Not Otherwi...\n",
       "series_name                                   Angsty Headcanon Ficlets\n",
       "collections                                    Bad Things Happen Bingo\n",
       "pub_date                                                    2019-04-28\n",
       "word_count                                                         327\n",
       "url                          http://archiveofourown.org/works/18632218"
      ]
     },
     "execution_count": 114,
     "metadata": {},
     "output_type": "execute_result"
    }
   ],
   "source": [
    "ao3_df"
   ]
  },
  {
   "cell_type": "code",
   "execution_count": 116,
   "metadata": {},
   "outputs": [
    {
     "ename": "KeyError",
     "evalue": "'None of [None] are in the columns'",
     "output_type": "error",
     "traceback": [
      "\u001b[0;31m---------------------------------------------------------------------------\u001b[0m",
      "\u001b[0;31mKeyError\u001b[0m                                  Traceback (most recent call last)",
      "\u001b[0;32m<ipython-input-116-8271a857d260>\u001b[0m in \u001b[0;36m<module>\u001b[0;34m\u001b[0m\n\u001b[0;32m----> 1\u001b[0;31m \u001b[0mao3_df\u001b[0m\u001b[0;34m.\u001b[0m\u001b[0mpivot\u001b[0m\u001b[0;34m(\u001b[0m\u001b[0mindex\u001b[0m\u001b[0;34m=\u001b[0m\u001b[0;34m[\u001b[0m\u001b[0;36m0\u001b[0m\u001b[0;34m]\u001b[0m\u001b[0;34m)\u001b[0m\u001b[0;34m\u001b[0m\u001b[0;34m\u001b[0m\u001b[0m\n\u001b[0m",
      "\u001b[0;32m~/opt/anaconda3/lib/python3.8/site-packages/pandas/core/frame.py\u001b[0m in \u001b[0;36mpivot\u001b[0;34m(self, index, columns, values)\u001b[0m\n\u001b[1;32m   5921\u001b[0m         \u001b[0;32mfrom\u001b[0m \u001b[0mpandas\u001b[0m\u001b[0;34m.\u001b[0m\u001b[0mcore\u001b[0m\u001b[0;34m.\u001b[0m\u001b[0mreshape\u001b[0m\u001b[0;34m.\u001b[0m\u001b[0mpivot\u001b[0m \u001b[0;32mimport\u001b[0m \u001b[0mpivot\u001b[0m\u001b[0;34m\u001b[0m\u001b[0;34m\u001b[0m\u001b[0m\n\u001b[1;32m   5922\u001b[0m \u001b[0;34m\u001b[0m\u001b[0m\n\u001b[0;32m-> 5923\u001b[0;31m         \u001b[0;32mreturn\u001b[0m \u001b[0mpivot\u001b[0m\u001b[0;34m(\u001b[0m\u001b[0mself\u001b[0m\u001b[0;34m,\u001b[0m \u001b[0mindex\u001b[0m\u001b[0;34m=\u001b[0m\u001b[0mindex\u001b[0m\u001b[0;34m,\u001b[0m \u001b[0mcolumns\u001b[0m\u001b[0;34m=\u001b[0m\u001b[0mcolumns\u001b[0m\u001b[0;34m,\u001b[0m \u001b[0mvalues\u001b[0m\u001b[0;34m=\u001b[0m\u001b[0mvalues\u001b[0m\u001b[0;34m)\u001b[0m\u001b[0;34m\u001b[0m\u001b[0;34m\u001b[0m\u001b[0m\n\u001b[0m\u001b[1;32m   5924\u001b[0m \u001b[0;34m\u001b[0m\u001b[0m\n\u001b[1;32m   5925\u001b[0m     _shared_docs[\n",
      "\u001b[0;32m~/opt/anaconda3/lib/python3.8/site-packages/pandas/core/reshape/pivot.py\u001b[0m in \u001b[0;36mpivot\u001b[0;34m(data, index, columns, values)\u001b[0m\n\u001b[1;32m    433\u001b[0m         \u001b[0mcols\u001b[0m \u001b[0;34m=\u001b[0m \u001b[0;34m[\u001b[0m\u001b[0mcolumns\u001b[0m\u001b[0;34m]\u001b[0m \u001b[0;32mif\u001b[0m \u001b[0mindex\u001b[0m \u001b[0;32mis\u001b[0m \u001b[0;32mNone\u001b[0m \u001b[0;32melse\u001b[0m \u001b[0;34m[\u001b[0m\u001b[0mindex\u001b[0m\u001b[0;34m,\u001b[0m \u001b[0mcolumns\u001b[0m\u001b[0;34m]\u001b[0m\u001b[0;34m\u001b[0m\u001b[0;34m\u001b[0m\u001b[0m\n\u001b[1;32m    434\u001b[0m         \u001b[0mappend\u001b[0m \u001b[0;34m=\u001b[0m \u001b[0mindex\u001b[0m \u001b[0;32mis\u001b[0m \u001b[0;32mNone\u001b[0m\u001b[0;34m\u001b[0m\u001b[0;34m\u001b[0m\u001b[0m\n\u001b[0;32m--> 435\u001b[0;31m         \u001b[0mindexed\u001b[0m \u001b[0;34m=\u001b[0m \u001b[0mdata\u001b[0m\u001b[0;34m.\u001b[0m\u001b[0mset_index\u001b[0m\u001b[0;34m(\u001b[0m\u001b[0mcols\u001b[0m\u001b[0;34m,\u001b[0m \u001b[0mappend\u001b[0m\u001b[0;34m=\u001b[0m\u001b[0mappend\u001b[0m\u001b[0;34m)\u001b[0m\u001b[0;34m\u001b[0m\u001b[0;34m\u001b[0m\u001b[0m\n\u001b[0m\u001b[1;32m    436\u001b[0m     \u001b[0;32melse\u001b[0m\u001b[0;34m:\u001b[0m\u001b[0;34m\u001b[0m\u001b[0;34m\u001b[0m\u001b[0m\n\u001b[1;32m    437\u001b[0m         \u001b[0;32mif\u001b[0m \u001b[0mindex\u001b[0m \u001b[0;32mis\u001b[0m \u001b[0;32mNone\u001b[0m\u001b[0;34m:\u001b[0m\u001b[0;34m\u001b[0m\u001b[0;34m\u001b[0m\u001b[0m\n",
      "\u001b[0;32m~/opt/anaconda3/lib/python3.8/site-packages/pandas/core/frame.py\u001b[0m in \u001b[0;36mset_index\u001b[0;34m(self, keys, drop, append, inplace, verify_integrity)\u001b[0m\n\u001b[1;32m   4301\u001b[0m \u001b[0;34m\u001b[0m\u001b[0m\n\u001b[1;32m   4302\u001b[0m         \u001b[0;32mif\u001b[0m \u001b[0mmissing\u001b[0m\u001b[0;34m:\u001b[0m\u001b[0;34m\u001b[0m\u001b[0;34m\u001b[0m\u001b[0m\n\u001b[0;32m-> 4303\u001b[0;31m             \u001b[0;32mraise\u001b[0m \u001b[0mKeyError\u001b[0m\u001b[0;34m(\u001b[0m\u001b[0;34mf\"None of {missing} are in the columns\"\u001b[0m\u001b[0;34m)\u001b[0m\u001b[0;34m\u001b[0m\u001b[0;34m\u001b[0m\u001b[0m\n\u001b[0m\u001b[1;32m   4304\u001b[0m \u001b[0;34m\u001b[0m\u001b[0m\n\u001b[1;32m   4305\u001b[0m         \u001b[0;32mif\u001b[0m \u001b[0minplace\u001b[0m\u001b[0;34m:\u001b[0m\u001b[0;34m\u001b[0m\u001b[0;34m\u001b[0m\u001b[0m\n",
      "\u001b[0;31mKeyError\u001b[0m: 'None of [None] are in the columns'"
     ]
    }
   ],
   "source": [
    "ao3_df.pivot(index=[0])"
   ]
  },
  {
   "cell_type": "code",
   "execution_count": 63,
   "metadata": {},
   "outputs": [
    {
     "name": "stdout",
     "output_type": "stream",
     "text": [
      "['The Umbrella Academy (TV)', 'The Umbrella Academy (Comics)']\n"
     ]
    }
   ],
   "source": [
    "print(fandom_text)"
   ]
  },
  {
   "cell_type": "code",
   "execution_count": null,
   "metadata": {},
   "outputs": [],
   "source": []
  }
 ],
 "metadata": {
  "kernelspec": {
   "display_name": "Python 3",
   "language": "python",
   "name": "python3"
  },
  "language_info": {
   "codemirror_mode": {
    "name": "ipython",
    "version": 3
   },
   "file_extension": ".py",
   "mimetype": "text/x-python",
   "name": "python",
   "nbconvert_exporter": "python",
   "pygments_lexer": "ipython3",
   "version": "3.8.3"
  }
 },
 "nbformat": 4,
 "nbformat_minor": 4
}
